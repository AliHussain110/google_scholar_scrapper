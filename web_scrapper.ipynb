{
  "nbformat": 4,
  "nbformat_minor": 0,
  "metadata": {
    "colab": {
      "provenance": []
    },
    "kernelspec": {
      "name": "python3",
      "display_name": "Python 3"
    },
    "language_info": {
      "name": "python"
    }
  },
  "cells": [
    {
      "cell_type": "code",
      "execution_count": 1,
      "metadata": {
        "colab": {
          "base_uri": "https://localhost:8080/"
        },
        "id": "06HVhZY60HF0",
        "outputId": "13a60cb0-d361-424d-b0a4-2df7ef964057"
      },
      "outputs": [
        {
          "output_type": "stream",
          "name": "stdout",
          "text": [
            "Data for the year 2023 has been saved to research_papers_2023.xlsx\n"
          ]
        }
      ],
      "source": [
        "import requests\n",
        "from bs4 import BeautifulSoup\n",
        "import pandas as pd\n",
        "\n",
        "url = \"https://scholar.google.com/citations?hl=en&user=w6z2lY0AAAAJ\"\n",
        "HEADERS = {\n",
        "    'User-Agent': 'Mozilla/5.0 (Windows NT 10.0; Win64; x64) AppleWebKit/537.36 (KHTML, like Gecko) Chrome/117.0.0.0 Safari/537.36'\n",
        "}\n",
        "\n",
        "response = requests.get(url, headers=HEADERS)\n",
        "soup = BeautifulSoup(response.text, \"html.parser\")\n",
        "paperData = soup.find_all(\"td\", {\"class\": \"gsc_a_t\"})\n",
        "\n",
        "paper_title = []\n",
        "author_name = []\n",
        "journal = []\n",
        "year = []\n",
        "\n",
        "for i in paperData:\n",
        "    years = i.find_all('span', {\"class\": \"gs_oph\"})\n",
        "    year_text = years[2].text.strip() if len(years) > 2 else \"\"\n",
        "\n",
        "    if \"2023\" in year_text:\n",
        "        paper_title.append(i.find('a').text)\n",
        "        authors = i.find_all('div', {\"class\": \"gs_gray\"})\n",
        "        author_text = authors[0].text.strip() if len(authors) > 0 else \"\"\n",
        "        author_name.append(author_text)\n",
        "        journal_text = authors[1].text.strip() if len(authors) > 1 else \"\"\n",
        "        journal.append(journal_text)\n",
        "        year.append(year_text)\n",
        "\n",
        "\n",
        "for y in year:\n",
        "    print(y)\n",
        "\n",
        "data = {\n",
        "    \"Title\": paper_title,\n",
        "    \"Author\": author_name,\n",
        "    \"Journal\": journal,\n",
        "    \"Year\": year\n",
        "}\n",
        "\n",
        "df = pd.DataFrame(data)\n",
        "df.to_excel(\"research_papers_2023.xlsx\", index=False)\n",
        "\n",
        "print(\"Data for the year 2023 has been saved to research_papers_2023.xlsx\")\n"
      ]
    }
  ]
}